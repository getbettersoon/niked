{
 "cells": [
  {
   "cell_type": "code",
   "execution_count": null,
   "metadata": {},
   "outputs": [],
   "source": [
    "from selenium import webdriver\n",
    "from selenium.webdriver.common.by import By\n",
    "from support import wait_for_load\n",
    "\n",
    "def check_size(driver, sku):\n",
    "    element = driver.find_element(By.ID, sku)\n",
    "\n",
    "    if element.get_attribute('disabled'):\n",
    "        return 'Size not available'\n",
    "    else:\n",
    "        return 'Size available!'\n",
    "    "
   ]
  },
  {
   "cell_type": "code",
   "execution_count": 16,
   "metadata": {},
   "outputs": [
    {
     "name": "stdout",
     "output_type": "stream",
     "text": [
      "Available!\n"
     ]
    }
   ],
   "source": [
    "\n",
    "\n",
    "url = 'https://www.nike.com/gb/t/air-max-terrascape-90-shoes-CRn0XW/DH4677-400'\n",
    "driver = webdriver.Safari()\n",
    "try:\n",
    "    driver.get(url)\n",
    "except Exception as e:\n",
    "    print(\"Unexpected \", e)\n",
    "wait_for_load(driver)\n",
    "\n",
    "element = driver.find_element(By.ID, 'skuAndSize__27492970')\n",
    "\n",
    "if element.get_attribute('disabled'):\n",
    "    print('Not available')\n",
    "else:\n",
    "    print('Available!')\n",
    "\n",
    "driver.quit()\n"
   ]
  },
  {
   "cell_type": "code",
   "execution_count": 14,
   "metadata": {},
   "outputs": [
    {
     "name": "stdout",
     "output_type": "stream",
     "text": [
      "Not available\n"
     ]
    }
   ],
   "source": []
  },
  {
   "cell_type": "code",
   "execution_count": 13,
   "metadata": {},
   "outputs": [
    {
     "name": "stdout",
     "output_type": "stream",
     "text": [
      "not available\n"
     ]
    }
   ],
   "source": [
    "if element.get_attribute('disabled'):\n",
    "    print('not available')"
   ]
  },
  {
   "cell_type": "code",
   "execution_count": 17,
   "metadata": {},
   "outputs": [],
   "source": []
  },
  {
   "cell_type": "code",
   "execution_count": null,
   "metadata": {},
   "outputs": [],
   "source": []
  }
 ],
 "metadata": {
  "interpreter": {
   "hash": "afd6336da45e7135dc0f97bde08204bffe83b935be60ccc011f01d16c11e3ef3"
  },
  "kernelspec": {
   "display_name": "Python 3.10.0 ('.env': venv)",
   "language": "python",
   "name": "python3"
  },
  "language_info": {
   "codemirror_mode": {
    "name": "ipython",
    "version": 3
   },
   "file_extension": ".py",
   "mimetype": "text/x-python",
   "name": "python",
   "nbconvert_exporter": "python",
   "pygments_lexer": "ipython3",
   "version": "3.10.0"
  },
  "orig_nbformat": 4
 },
 "nbformat": 4,
 "nbformat_minor": 2
}
