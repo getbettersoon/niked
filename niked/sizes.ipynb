{
 "cells": [
  {
   "cell_type": "code",
   "execution_count": 53,
   "metadata": {},
   "outputs": [],
   "source": [
    "from selenium.webdriver.common.by import By\n",
    "from selenium.webdriver.support.ui import WebDriverWait\n",
    "from selenium.webdriver.support import expected_conditions as EC"
   ]
  },
  {
   "cell_type": "code",
   "execution_count": null,
   "metadata": {},
   "outputs": [],
   "source": [
    "def wait_for_load():\n",
    "    try:\n",
    "        element = WebDriverWait(driver, 10).until(EC.presence_of_element_located(By.ID, 'buyTools'))"
   ]
  },
  {
   "cell_type": "code",
   "execution_count": 110,
   "metadata": {},
   "outputs": [],
   "source": [
    "def get_sizes(driver, url):\n",
    "    driver.get(url)\n",
    "    sizes_table = driver.find_element(By.CSS_SELECTOR, 'div.mt2-sm.css-12whm6j')\n",
    "    sizes_list = [size.text for size in sizes_table.find_elements(By.TAG_NAME, 'div')]\n",
    "    driver.quit()\n",
    "    return sizes_list\n",
    "\n"
   ]
  },
  {
   "cell_type": "code",
   "execution_count": 111,
   "metadata": {},
   "outputs": [
    {
     "data": {
      "text/plain": [
       "['UK 3.5',\n",
       " 'UK 4',\n",
       " 'UK 4.5',\n",
       " 'UK 5',\n",
       " 'UK 5.5',\n",
       " 'UK 6 (EU 39)',\n",
       " 'UK 6 (EU 40)',\n",
       " 'UK 6.5',\n",
       " 'UK 7',\n",
       " 'UK 7.5',\n",
       " 'UK 8',\n",
       " 'UK 8.5',\n",
       " 'UK 9',\n",
       " 'UK 9.5',\n",
       " 'UK 10',\n",
       " 'UK 10.5',\n",
       " 'UK 11',\n",
       " 'UK 12',\n",
       " 'UK 13',\n",
       " 'UK 14']"
      ]
     },
     "execution_count": 111,
     "metadata": {},
     "output_type": "execute_result"
    }
   ],
   "source": [
    "get_sizes('https://www.nike.com/gb/t/sb-ishod-wair-skate-shoes-lBJtSF')"
   ]
  },
  {
   "cell_type": "code",
   "execution_count": 101,
   "metadata": {},
   "outputs": [],
   "source": [
    "divs = test_css.find_elements(By.TAG_NAME, 'div')"
   ]
  },
  {
   "cell_type": "code",
   "execution_count": 106,
   "metadata": {},
   "outputs": [
    {
     "name": "stdout",
     "output_type": "stream",
     "text": [
      "UK 5.5\n",
      "UK 6 (EU 39)\n",
      "UK 6 (EU 40)\n",
      "UK 6.5\n",
      "UK 7\n",
      "UK 7.5\n",
      "UK 8\n",
      "UK 8.5\n",
      "UK 9\n",
      "UK 9.5\n",
      "UK 10\n",
      "UK 10.5\n",
      "UK 11\n",
      "UK 11.5\n",
      "UK 12\n",
      "UK 13\n",
      "UK 14\n"
     ]
    }
   ],
   "source": [
    "for i in divs:\n",
    "    print(i.text)"
   ]
  },
  {
   "cell_type": "code",
   "execution_count": 109,
   "metadata": {},
   "outputs": [],
   "source": [
    "driver.quit()"
   ]
  },
  {
   "cell_type": "code",
   "execution_count": null,
   "metadata": {},
   "outputs": [],
   "source": [
    "#buyTools > div:nth-child(1) > fieldset > div"
   ]
  },
  {
   "cell_type": "code",
   "execution_count": null,
   "metadata": {},
   "outputs": [],
   "source": []
  },
  {
   "cell_type": "code",
   "execution_count": null,
   "metadata": {},
   "outputs": [],
   "source": []
  }
 ],
 "metadata": {
  "interpreter": {
   "hash": "afd6336da45e7135dc0f97bde08204bffe83b935be60ccc011f01d16c11e3ef3"
  },
  "kernelspec": {
   "display_name": "Python 3.10.0 ('.env': venv)",
   "language": "python",
   "name": "python3"
  },
  "language_info": {
   "codemirror_mode": {
    "name": "ipython",
    "version": 3
   },
   "file_extension": ".py",
   "mimetype": "text/x-python",
   "name": "python",
   "nbconvert_exporter": "python",
   "pygments_lexer": "ipython3",
   "version": "3.10.0"
  },
  "orig_nbformat": 4
 },
 "nbformat": 4,
 "nbformat_minor": 2
}
